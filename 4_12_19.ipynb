{
  "nbformat": 4,
  "nbformat_minor": 0,
  "metadata": {
    "colab": {
      "name": "4-12-19",
      "provenance": [],
      "include_colab_link": true
    },
    "kernelspec": {
      "name": "python3",
      "display_name": "Python 3"
    }
  },
  "cells": [
    {
      "cell_type": "markdown",
      "metadata": {
        "id": "view-in-github",
        "colab_type": "text"
      },
      "source": [
        "<a href=\"https://colab.research.google.com/github/Venkataramreddy22/crt-program/blob/master/4_12_19.ipynb\" target=\"_parent\"><img src=\"https://colab.research.google.com/assets/colab-badge.svg\" alt=\"Open In Colab\"/></a>"
      ]
    },
    {
      "cell_type": "code",
      "metadata": {
        "id": "l4AM4uUpBBLp",
        "colab_type": "code",
        "colab": {}
      },
      "source": [
        ""
      ],
      "execution_count": 0,
      "outputs": []
    },
    {
      "cell_type": "markdown",
      "metadata": {
        "id": "UcQNe24jBHnS",
        "colab_type": "text"
      },
      "source": [
        "###functional programming\n",
        "\n"
      ]
    },
    {
      "cell_type": "markdown",
      "metadata": {
        "id": "F2E5YZh-CLL3",
        "colab_type": "text"
      },
      "source": [
        "1.simple\n",
        "2.easy to understand\n",
        "3.better reuseability\n",
        "4.length of program will be divided into sub programs"
      ]
    },
    {
      "cell_type": "code",
      "metadata": {
        "id": "O0VYCxTyCSJZ",
        "colab_type": "code",
        "colab": {}
      },
      "source": [
        "def name of function(<parameters>):\n",
        "  statememts\n",
        "  return"
      ],
      "execution_count": 0,
      "outputs": []
    },
    {
      "cell_type": "code",
      "metadata": {
        "id": "aGmzQLMMCmwG",
        "colab_type": "code",
        "colab": {}
      },
      "source": [
        "# read a number\n",
        "# print the even digit sum from the number\n",
        "\n",
        "#input :1234\n",
        "#output:6(2+4)\n"
      ],
      "execution_count": 0,
      "outputs": []
    },
    {
      "cell_type": "code",
      "metadata": {
        "id": "YrCa3kY0GzfI",
        "colab_type": "code",
        "outputId": "16fe4d65-ab7f-4e40-eb22-8503e7c39fe2",
        "colab": {
          "base_uri": "https://localhost:8080/",
          "height": 35
        }
      },
      "source": [
        "def evendigitsum(n):\n",
        "  s=0\n",
        "  while n!=0:\n",
        "    r=n%10\n",
        "    if r%2 == 0:\n",
        "      s=s+r\n",
        "      n=n//10\n",
        "      return s \n",
        "evendigitsum(1234)"
      ],
      "execution_count": 0,
      "outputs": [
        {
          "output_type": "execute_result",
          "data": {
            "text/plain": [
              "4"
            ]
          },
          "metadata": {
            "tags": []
          },
          "execution_count": 15
        }
      ]
    },
    {
      "cell_type": "markdown",
      "metadata": {
        "id": "dK1AqXXmH0v2",
        "colab_type": "text"
      },
      "source": [
        "Define return fuction\n"
      ]
    },
    {
      "cell_type": "code",
      "metadata": {
        "id": "xSDCr_ukH7rA",
        "colab_type": "code",
        "outputId": "d216a31c-af5d-4435-f814-eef34bbd4119",
        "colab": {
          "base_uri": "https://localhost:8080/",
          "height": 54
        }
      },
      "source": [
        "def square(x):\n",
        "  print(x*x)\n",
        "print(square(4))"
      ],
      "execution_count": 0,
      "outputs": [
        {
          "output_type": "stream",
          "text": [
            "16\n",
            "None\n"
          ],
          "name": "stdout"
        }
      ]
    },
    {
      "cell_type": "code",
      "metadata": {
        "id": "_MVCn7tZIScG",
        "colab_type": "code",
        "outputId": "134e35fc-7ff2-43ab-89d2-9d9b9ad98278",
        "colab": {
          "base_uri": "https://localhost:8080/",
          "height": 35
        }
      },
      "source": [
        "def square(x):\n",
        "  return x*x\n",
        "square(3)"
      ],
      "execution_count": 0,
      "outputs": [
        {
          "output_type": "execute_result",
          "data": {
            "text/plain": [
              "9"
            ]
          },
          "metadata": {
            "tags": []
          },
          "execution_count": 17
        }
      ]
    },
    {
      "cell_type": "code",
      "metadata": {
        "id": "mQAQE4reItym",
        "colab_type": "code",
        "outputId": "1b7e3677-4fae-4a0f-f270-0654819fef06",
        "colab": {
          "base_uri": "https://localhost:8080/",
          "height": 35
        }
      },
      "source": [
        "def cube(x):\n",
        "  return x*x*x\n",
        "cube(3)"
      ],
      "execution_count": 0,
      "outputs": [
        {
          "output_type": "execute_result",
          "data": {
            "text/plain": [
              "27"
            ]
          },
          "metadata": {
            "tags": []
          },
          "execution_count": 18
        }
      ]
    },
    {
      "cell_type": "code",
      "metadata": {
        "id": "5FYOxISDJEg2",
        "colab_type": "code",
        "outputId": "de4f8e2f-5b31-4222-9e7d-5d5eef1d44ad",
        "colab": {
          "base_uri": "https://localhost:8080/",
          "height": 72
        }
      },
      "source": [
        "def multiply(x,y=0):\n",
        "  print(\"value of x=\",x)\n",
        "  print(\"value of y=\",y)\n",
        "  return(x*y)\n",
        "print(multiply(y=2,x=4))"
      ],
      "execution_count": 0,
      "outputs": [
        {
          "output_type": "stream",
          "text": [
            "value of x= 4\n",
            "value of y= 2\n",
            "8\n"
          ],
          "name": "stdout"
        }
      ]
    },
    {
      "cell_type": "markdown",
      "metadata": {
        "id": "mfg2tzN-LOQP",
        "colab_type": "text"
      },
      "source": [
        "#Swapping values"
      ]
    },
    {
      "cell_type": "code",
      "metadata": {
        "id": "z9gA6ymUMT9H",
        "colab_type": "code",
        "outputId": "4f324ca1-347f-4bf8-f667-9877591169be",
        "colab": {
          "base_uri": "https://localhost:8080/",
          "height": 35
        }
      },
      "source": [
        "def swap(x,y):\n",
        "    temp=x\n",
        "    x=y\n",
        "    y=temp\n",
        "    return x,y\n",
        "swap(2,3)"
      ],
      "execution_count": 0,
      "outputs": [
        {
          "output_type": "execute_result",
          "data": {
            "text/plain": [
              "(3, 2)"
            ]
          },
          "metadata": {
            "tags": []
          },
          "execution_count": 35
        }
      ]
    },
    {
      "cell_type": "code",
      "metadata": {
        "id": "1BeXyDbIPp6o",
        "colab_type": "code",
        "colab": {}
      },
      "source": [
        "#Input : 19535\n",
        "#output : 9(large digit of the given no)\n"
      ],
      "execution_count": 0,
      "outputs": []
    },
    {
      "cell_type": "code",
      "metadata": {
        "id": "KoVShOYTQbRI",
        "colab_type": "code",
        "outputId": "07e3abbe-4d87-4eec-98af-cffb44c8f281",
        "colab": {
          "base_uri": "https://localhost:8080/",
          "height": 35
        }
      },
      "source": [
        "def largedigit(n):\n",
        "    large = 0\n",
        "    while n!=0:\n",
        "      r=n%10\n",
        "      if large < r:\n",
        "          large = r\n",
        "      n=n//10\n",
        "    return large\n",
        "largedigit(19535)"
      ],
      "execution_count": 0,
      "outputs": [
        {
          "output_type": "execute_result",
          "data": {
            "text/plain": [
              "9"
            ]
          },
          "metadata": {
            "tags": []
          },
          "execution_count": 46
        }
      ]
    },
    {
      "cell_type": "markdown",
      "metadata": {
        "id": "8DMv1ovUSjIT",
        "colab_type": "text"
      },
      "source": [
        "##For loop\n",
        "##### syntax1:\n",
        "for i in range(start,stop,step)\n",
        "\n",
        "\n",
        ">statements\n",
        "#####syntax2:\n",
        "for i in iterableobject:\n",
        "\n",
        "\n",
        "> statements\n",
        "\n",
        "\n",
        "\n"
      ]
    },
    {
      "cell_type": "code",
      "metadata": {
        "id": "hGJjgmv7Tb4A",
        "colab_type": "code",
        "outputId": "bdd0d68e-8850-43de-a8d2-fd77b6e8e9fe",
        "colab": {
          "base_uri": "https://localhost:8080/",
          "height": 35
        }
      },
      "source": [
        "def printseries(lb,ub):\n",
        "    for x in range(lb,ub+1):\n",
        "        print(x,end =' ')\n",
        "    return\n",
        "printseries(1,10)"
      ],
      "execution_count": 0,
      "outputs": [
        {
          "output_type": "stream",
          "text": [
            "1 2 3 4 5 6 7 8 9 10 "
          ],
          "name": "stdout"
        }
      ]
    },
    {
      "cell_type": "markdown",
      "metadata": {
        "id": "HNkHHu3fWdzf",
        "colab_type": "text"
      },
      "source": [
        "##collection types:\n",
        "\n",
        "\n",
        "1.   List\n",
        "2.   Tuple\n",
        "\n",
        "1.   set\n",
        "2.   dictionary\n",
        "\n",
        "\n"
      ]
    },
    {
      "cell_type": "markdown",
      "metadata": {
        "id": "RlCrcPiZXAOM",
        "colab_type": "text"
      },
      "source": [
        "#list\n",
        "\n",
        "\n",
        "1.  one of the data structure in python\n",
        "2.  data structure means to store, sort and search options\n",
        "\n",
        "1.   It's one common Data structures in python,the items of list seperated by coma and enclosed in square brackets\n",
        "\n",
        "\n",
        "\n",
        "\n"
      ]
    },
    {
      "cell_type": "markdown",
      "metadata": {
        "id": "wMGwpMEaX7Jf",
        "colab_type": "text"
      },
      "source": [
        ""
      ]
    },
    {
      "cell_type": "markdown",
      "metadata": {
        "id": "wvPZ5FnCYDtX",
        "colab_type": "text"
      },
      "source": [
        "#Examples:\n",
        "-List=[1,2,3,4,5]-List2=[\"Gitam\",1,2]"
      ]
    },
    {
      "cell_type": "code",
      "metadata": {
        "id": "YL65dmNcYiMi",
        "colab_type": "code",
        "outputId": "3613c493-c67b-409a-c8dc-ca5fbdb382c4",
        "colab": {
          "base_uri": "https://localhost:8080/",
          "height": 145
        }
      },
      "source": [
        "li=[1,8,16,9,2]\n",
        "print(li)#will print all the list items\n",
        "print(li[0])\n",
        "print(li[-5])\n",
        "print(li[1:])\n",
        "print(li[1:4])\n",
        "print(li[-4:-1]) \n",
        "type('2')"
      ],
      "execution_count": 54,
      "outputs": [
        {
          "output_type": "stream",
          "text": [
            "[1, 8, 16, 9, 2]\n",
            "1\n",
            "1\n",
            "[8, 16, 9, 2]\n",
            "[8, 16, 9]\n",
            "[8, 16, 9]\n"
          ],
          "name": "stdout"
        },
        {
          "output_type": "execute_result",
          "data": {
            "text/plain": [
              "str"
            ]
          },
          "metadata": {
            "tags": []
          },
          "execution_count": 54
        }
      ]
    },
    {
      "cell_type": "code",
      "metadata": {
        "id": "eTl-VHlobpSh",
        "colab_type": "code",
        "colab": {}
      },
      "source": [
        ""
      ],
      "execution_count": 0,
      "outputs": []
    }
  ]
}