{
  "nbformat": 4,
  "nbformat_minor": 0,
  "metadata": {
    "colab": {
      "name": "3-12-19",
      "provenance": []
    },
    "kernelspec": {
      "name": "python3",
      "display_name": "Python 3"
    }
  },
  "cells": [
    {
      "cell_type": "code",
      "metadata": {
        "id": "atSo7O2Z5xm3",
        "colab_type": "code",
        "outputId": "99657569-bd92-4d1a-9e3e-d7013199d70a",
        "colab": {
          "base_uri": "https://localhost:8080/",
          "height": 90
        }
      },
      "source": [
        "print(\"welcome to python programming\")\n",
        "print(\"welcome to python programming\")\n",
        "print(\"welcome to jupyter programming\")\n",
        "x=123456789\n",
        "print(x)\n",
        "\n"
      ],
      "execution_count": 0,
      "outputs": [
        {
          "output_type": "stream",
          "text": [
            "welcome to python programming\n",
            "welcome to python programming\n",
            "welcome to jupyter programming\n",
            "123456789\n"
          ],
          "name": "stdout"
        }
      ]
    },
    {
      "cell_type": "code",
      "metadata": {
        "id": "0lC9XsUJ_0qX",
        "colab_type": "code",
        "colab": {}
      },
      "source": [
        ""
      ],
      "execution_count": 0,
      "outputs": []
    },
    {
      "cell_type": "markdown",
      "metadata": {
        "id": "wYKnKTe89Z6R",
        "colab_type": "text"
      },
      "source": [
        "#markdown\n",
        "##markdown\n",
        "###markdown\n",
        "####markdown\n",
        "#####markdown\n",
        "###Insert a image\n",
        "![text](https://encrypted-tbn0.gstatic.com/images?q=tbn%3AANd9GcTxEOVTcvf8wEI1bGPVZrCVADRvWGpFsVzrowss8S1SuQl_xJjK)\n",
        "\n",
        "\n",
        "###Insert a site\n",
        "[site](https://www.google.com/search?q=image&rlz=1C1CHNY_enIN824IN824&sxsrf=ACYBGNQD621FqISGR3xWL2YCVpNFb9s5nQ:1575346617661&tbm=isch&source=iu&ictx=1&fir=aT1lQMo5)\n",
        "###for creating order list\n",
        "1.abc\n",
        "\n",
        "1.   cf\n",
        "2.   fag\n",
        "2.efg\n",
        "\n",
        "1.   Li\n",
        "2.   Le\n",
        "3.hij\n",
        "\n",
        "1.   List item\n",
        "2.   List item\n",
        "\n",
        "###*bold and single*italic text\n",
        "**gitam**<br>\n",
        "*gitam*\n",
        "\n",
        "\n",
        "\n",
        "\n",
        "\n",
        "\n",
        "\n"
      ]
    },
    {
      "cell_type": "code",
      "metadata": {
        "id": "u9rBqxgkD9xo",
        "colab_type": "code",
        "outputId": "1b03b043-ba1a-4799-dd44-2480045b5b86",
        "colab": {
          "base_uri": "https://localhost:8080/",
          "height": 108
        }
      },
      "source": [
        "print(\"hello\")\n",
        "# variable creation\n",
        "a = 10\n",
        "b = 10\n",
        "a+b\n",
        "name = \"Gitam\"\n",
        "print(\"university:\"+ name)\n",
        "name = input(\"enter a name\")\n",
        "age= input(\"enter age\")\n",
        "print(\"my name is\",name,\"and my age is\",age)\n"
      ],
      "execution_count": 0,
      "outputs": [
        {
          "output_type": "stream",
          "text": [
            "hello\n",
            "university:Gitam\n",
            "enter a namevenkat\n",
            "enter age21\n",
            "my name is venkat and my age is 21\n"
          ],
          "name": "stdout"
        }
      ]
    },
    {
      "cell_type": "code",
      "metadata": {
        "id": "STZu4yh6AEk_",
        "colab_type": "code",
        "colab": {}
      },
      "source": [
        ""
      ],
      "execution_count": 0,
      "outputs": []
    },
    {
      "cell_type": "code",
      "metadata": {
        "id": "pWAnw0e8HfYo",
        "colab_type": "code",
        "outputId": "06053903-3a2f-48e6-b24b-92f1bc5d03e0",
        "colab": {
          "base_uri": "https://localhost:8080/",
          "height": 126
        }
      },
      "source": [
        "a= int(input(\"enter the first no\"))\n",
        "b=int(input(\"enter the second no\"))\n",
        "c=a+b\n",
        "d=a-b\n",
        "e=a*b\n",
        "f=a/b\n",
        "print(c)\n",
        "print(d)\n",
        "print(e)\n",
        "print(f)\n"
      ],
      "execution_count": 0,
      "outputs": [
        {
          "output_type": "stream",
          "text": [
            "enter the first no10\n",
            "enter the second no20\n",
            "30\n",
            "-10\n",
            "200\n",
            "0.5\n"
          ],
          "name": "stdout"
        }
      ]
    },
    {
      "cell_type": "code",
      "metadata": {
        "id": "z7rEKPjrIeX4",
        "colab_type": "code",
        "colab": {}
      },
      "source": [
        "###Fundamental datatypes\n",
        "1.int\n",
        "2.float\n",
        "3.complex\n",
        "4.string\n",
        "5.boolean\n"
      ],
      "execution_count": 0,
      "outputs": []
    },
    {
      "cell_type": "code",
      "metadata": {
        "id": "xCjmm-gSJJyT",
        "colab_type": "code",
        "outputId": "70b2f5ac-5e3c-4d1c-a4d5-fffc87766814",
        "colab": {
          "base_uri": "https://localhost:8080/",
          "height": 35
        }
      },
      "source": [
        "a=10\n",
        "b=12.05\n",
        "c=5+5j\n",
        "print(type(a),type(b),type(c))"
      ],
      "execution_count": 0,
      "outputs": [
        {
          "output_type": "stream",
          "text": [
            "<class 'int'> <class 'float'> <class 'complex'>\n"
          ],
          "name": "stdout"
        }
      ]
    },
    {
      "cell_type": "code",
      "metadata": {
        "id": "JniZExX4J47g",
        "colab_type": "code",
        "outputId": "1b394cc8-d01d-4774-a115-38257df0f8ed",
        "colab": {
          "base_uri": "https://localhost:8080/",
          "height": 35
        }
      },
      "source": [
        "c= complex(3,4)\n",
        "print(c)\n"
      ],
      "execution_count": 0,
      "outputs": [
        {
          "output_type": "stream",
          "text": [
            "(3+4j)\n"
          ],
          "name": "stdout"
        }
      ]
    },
    {
      "cell_type": "code",
      "metadata": {
        "id": "EplAsXdEKMeZ",
        "colab_type": "code",
        "outputId": "5e86f7e0-11fc-4976-ea94-c69b75e0344a",
        "colab": {
          "base_uri": "https://localhost:8080/",
          "height": 72
        }
      },
      "source": [
        "c1= 3+5j\n",
        "c2=6+7j\n",
        "print(c1+c2)\n",
        "print(c1-c2)\n",
        "print(c1*c2)"
      ],
      "execution_count": 0,
      "outputs": [
        {
          "output_type": "stream",
          "text": [
            "(9+12j)\n",
            "(-3-2j)\n",
            "(-17+51j)\n"
          ],
          "name": "stdout"
        }
      ]
    },
    {
      "cell_type": "code",
      "metadata": {
        "id": "MURZ0r99K3xA",
        "colab_type": "code",
        "outputId": "eaf3a1ac-7ce9-4442-9105-187cc684f3ac",
        "colab": {
          "base_uri": "https://localhost:8080/",
          "height": 35
        }
      },
      "source": [
        "a=10\n",
        "b=20\n",
        "a>b"
      ],
      "execution_count": 0,
      "outputs": [
        {
          "output_type": "execute_result",
          "data": {
            "text/plain": [
              "False"
            ]
          },
          "metadata": {
            "tags": []
          },
          "execution_count": 12
        }
      ]
    },
    {
      "cell_type": "code",
      "metadata": {
        "id": "oWCxQz5tLQDZ",
        "colab_type": "code",
        "outputId": "38bfcf9f-f0f8-419b-f8e5-fc0500f308a5",
        "colab": {
          "base_uri": "https://localhost:8080/",
          "height": 35
        }
      },
      "source": [
        "s1=\"abc\"\n",
        "s2=\"xyz\"\n",
        "print(type(s1),type(s2))"
      ],
      "execution_count": 0,
      "outputs": [
        {
          "output_type": "stream",
          "text": [
            "<class 'str'> <class 'str'>\n"
          ],
          "name": "stdout"
        }
      ]
    },
    {
      "cell_type": "code",
      "metadata": {
        "id": "ijPjFKwYLzQp",
        "colab_type": "code",
        "outputId": "ea5359db-e43f-4aa0-c8ea-ea7f01570528",
        "colab": {
          "base_uri": "https://localhost:8080/",
          "height": 90
        }
      },
      "source": [
        "s1=\"100\"\n",
        "print(type(s1))\n",
        "a=int(s1)\n",
        "print(type(s1))\n",
        "f=10.5\n",
        "a1=int(f)\n",
        "print(type(a1))\n",
        "print(a1)"
      ],
      "execution_count": 0,
      "outputs": [
        {
          "output_type": "stream",
          "text": [
            "<class 'str'>\n",
            "<class 'str'>\n",
            "<class 'int'>\n",
            "10\n"
          ],
          "name": "stdout"
        }
      ]
    },
    {
      "cell_type": "code",
      "metadata": {
        "id": "VsVhA9KmOPth",
        "colab_type": "code",
        "outputId": "9464478d-9ba1-4852-91a7-5b3ccb87a8f0",
        "colab": {
          "base_uri": "https://localhost:8080/",
          "height": 35
        }
      },
      "source": [
        "a= \"123456789\"\n",
        "print(len(a))"
      ],
      "execution_count": 0,
      "outputs": [
        {
          "output_type": "stream",
          "text": [
            "9\n"
          ],
          "name": "stdout"
        }
      ]
    },
    {
      "cell_type": "code",
      "metadata": {
        "id": "JigprUoeOca6",
        "colab_type": "code",
        "outputId": "727e4635-aebe-45ce-a6be-9f08a8e10c6d",
        "colab": {
          "base_uri": "https://localhost:8080/",
          "height": 35
        }
      },
      "source": [
        "a=\"123456789\"\n",
        "print(len(str(a1)))"
      ],
      "execution_count": 0,
      "outputs": [
        {
          "output_type": "stream",
          "text": [
            "2\n"
          ],
          "name": "stdout"
        }
      ]
    },
    {
      "cell_type": "code",
      "metadata": {
        "id": "AhcWOW-3O7ji",
        "colab_type": "code",
        "colab": {}
      },
      "source": [
        "###operators\n",
        "1.arthematic operators --- )+,-,*,%,//,**\n",
        "2.logical operators --->and,or,not\n",
        "3.relational operators---><,>,<=,==,!=\n",
        "4.membership operators-->in,not in"
      ],
      "execution_count": 0,
      "outputs": []
    },
    {
      "cell_type": "code",
      "metadata": {
        "id": "m5kfkqkBQNzZ",
        "colab_type": "code",
        "outputId": "6e286d1c-1c1b-484b-c4d5-c9aadc18432a",
        "colab": {
          "base_uri": "https://localhost:8080/",
          "height": 126
        }
      },
      "source": [
        "n1=12\n",
        "n2=21\n",
        "print(n1+n2)\n",
        "print(n1-n2)\n",
        "print(n1*n2)\n",
        "print(n1/n2)\n",
        "print(n1//n2)\n",
        "print(n1**n2)\n"
      ],
      "execution_count": 0,
      "outputs": [
        {
          "output_type": "stream",
          "text": [
            "33\n",
            "-9\n",
            "252\n",
            "0.5714285714285714\n",
            "0\n",
            "46005119909369701466112\n"
          ],
          "name": "stdout"
        }
      ]
    },
    {
      "cell_type": "code",
      "metadata": {
        "id": "-HDeTr6jQ8SZ",
        "colab_type": "code",
        "outputId": "71ea0538-1703-46bf-b734-5fe82e68db1b",
        "colab": {
          "base_uri": "https://localhost:8080/",
          "height": 90
        }
      },
      "source": [
        "#relational; operators\n",
        "print(n1 == n2)\n",
        "print(n1!=n2)\n",
        "print(n1>n2)\n",
        "print(n1>n2)\n"
      ],
      "execution_count": 0,
      "outputs": [
        {
          "output_type": "stream",
          "text": [
            "False\n",
            "True\n",
            "False\n",
            "False\n"
          ],
          "name": "stdout"
        }
      ]
    },
    {
      "cell_type": "code",
      "metadata": {
        "id": "-BPUJUhSSr8y",
        "colab_type": "code",
        "outputId": "36357f55-368c-4658-ebe1-ef8041bb6485",
        "colab": {
          "base_uri": "https://localhost:8080/",
          "height": 72
        }
      },
      "source": [
        "#logical operators\n",
        "n1=20\n",
        "print(n1>=10 and n1<=20)\n",
        "print(n1>=10 or n1<= 20)\n",
        "print(not n1)\n"
      ],
      "execution_count": 0,
      "outputs": [
        {
          "output_type": "stream",
          "text": [
            "True\n",
            "True\n",
            "False\n"
          ],
          "name": "stdout"
        }
      ]
    },
    {
      "cell_type": "code",
      "metadata": {
        "id": "FUEN1hY6U6qE",
        "colab_type": "code",
        "outputId": "2df66f16-b6f1-4ff1-a46f-af815baa7821",
        "colab": {
          "base_uri": "https://localhost:8080/",
          "height": 35
        }
      },
      "source": [
        "a= 10\n",
        "b= 12\n",
        "c=a>b\n",
        "d=a<b\n",
        "e= a==b\n",
        "d= a!=b\n",
        "f=a<=b\n",
        "g=a>=b\n",
        "print(c,d,e,f,g,)"
      ],
      "execution_count": 0,
      "outputs": [
        {
          "output_type": "stream",
          "text": [
            "False True False True False\n"
          ],
          "name": "stdout"
        }
      ]
    },
    {
      "cell_type": "code",
      "metadata": {
        "id": "7QbUpFdhXIDq",
        "colab_type": "code",
        "outputId": "826be0e6-a8f2-4b20-ee38-8b6ae773aec6",
        "colab": {
          "base_uri": "https://localhost:8080/",
          "height": 72
        }
      },
      "source": [
        "f=[1,2,3,4]\n",
        "print(1 in f)\n",
        "print(5 in f)\n",
        "print(6 not in f)\n"
      ],
      "execution_count": 0,
      "outputs": [
        {
          "output_type": "stream",
          "text": [
            "True\n",
            "False\n",
            "True\n"
          ],
          "name": "stdout"
        }
      ]
    },
    {
      "cell_type": "code",
      "metadata": {
        "id": "Vq4qMq9rYnDa",
        "colab_type": "code",
        "colab": {}
      },
      "source": [
        "##conditional statements\n",
        "1.if\n",
        "2.else\n",
        "3.elif\n",
        "##syntax:\n",
        "#####if condition:\n",
        "> statements<br>\n",
        "#####else:\n",
        ">statements"
      ],
      "execution_count": 0,
      "outputs": []
    },
    {
      "cell_type": "code",
      "metadata": {
        "id": "rVfV7-liatED",
        "colab_type": "code",
        "outputId": "60d950d6-3b73-4ff4-d28a-1dd46545d897",
        "colab": {
          "base_uri": "https://localhost:8080/",
          "height": 54
        }
      },
      "source": [
        "\n",
        "n = int(input(\"enter a number\"))\n",
        "if n%2 == 0:\n",
        "  print(\"even\")\n",
        "else:\n",
        "    print(\"odd\")\n"
      ],
      "execution_count": 0,
      "outputs": [
        {
          "output_type": "stream",
          "text": [
            "enter a number10\n",
            "even\n"
          ],
          "name": "stdout"
        }
      ]
    },
    {
      "cell_type": "code",
      "metadata": {
        "id": "25LDvXrtcCC6",
        "colab_type": "code",
        "outputId": "10704f12-8e9a-4aee-e54a-8e05ab1f4987",
        "colab": {
          "base_uri": "https://localhost:8080/",
          "height": 54
        }
      },
      "source": [
        "n=int(input(\"enter a number\"))\n",
        "if n%3 ==0 and n%5 ==0:\n",
        "  print(\"multiple of 3 nd 5\")\n",
        "else:\n",
        "  print(\"not a multiple of3 and 5\")"
      ],
      "execution_count": 0,
      "outputs": [
        {
          "output_type": "stream",
          "text": [
            "enter a number10\n",
            "not a multiple of3 and 5\n"
          ],
          "name": "stdout"
        }
      ]
    },
    {
      "cell_type": "code",
      "metadata": {
        "id": "E2VEh4uadiY7",
        "colab_type": "code",
        "outputId": "dcb7b311-d685-4f29-962b-b92628d629a4",
        "colab": {
          "base_uri": "https://localhost:8080/",
          "height": 54
        }
      },
      "source": [
        "n=int(input(\"enter a number\"))\n",
        "if n>=0:\n",
        " print(\"positve\")\n",
        "else:\n",
        "  print(\"neg\")"
      ],
      "execution_count": 0,
      "outputs": [
        {
          "output_type": "stream",
          "text": [
            "enter a number-10\n",
            "neg\n"
          ],
          "name": "stdout"
        }
      ]
    },
    {
      "cell_type": "markdown",
      "metadata": {
        "id": "E4L82q4nf1_T",
        "colab_type": "text"
      },
      "source": [
        "check the input is leap yr or not"
      ]
    },
    {
      "cell_type": "code",
      "metadata": {
        "id": "QTyoK_4mf_2q",
        "colab_type": "code",
        "outputId": "e0d5f4cf-e30b-4da6-c1d4-89fcfa6fec9b",
        "colab": {
          "base_uri": "https://localhost:8080/",
          "height": 54
        }
      },
      "source": [
        "a = int(input(\"enter the number\"))\n",
        "if a % 400 == 0 or (a % 100 !=0 and a % 4 ==0):\n",
        "  print(\"leap year\")\n",
        "else:\n",
        "  print(\"not a leap year\")"
      ],
      "execution_count": 0,
      "outputs": [
        {
          "output_type": "stream",
          "text": [
            "enter the number2016\n",
            "leap year\n"
          ],
          "name": "stdout"
        }
      ]
    },
    {
      "cell_type": "code",
      "metadata": {
        "id": "Kg9cYnfkixLV",
        "colab_type": "code",
        "outputId": "b5154d62-554f-4900-ad10-4a2597486dad",
        "colab": {
          "base_uri": "https://localhost:8080/",
          "height": 54
        }
      },
      "source": [
        "n=int(input(\"enter a number\"))\n",
        "i=1\n",
        "while i <= n:\n",
        "  print(i,end=\" \")\n",
        "  i=i+1\n",
        "  "
      ],
      "execution_count": 0,
      "outputs": [
        {
          "output_type": "stream",
          "text": [
            "enter a number2\n",
            "1 2 "
          ],
          "name": "stdout"
        }
      ]
    },
    {
      "cell_type": "code",
      "metadata": {
        "id": "Bg71mtS-lI6z",
        "colab_type": "code",
        "outputId": "9d02f01a-2975-4f9d-c7ee-b3a2762f3e45",
        "colab": {
          "base_uri": "https://localhost:8080/",
          "height": 35
        }
      },
      "source": [
        "n=int(input(\"enter a number\"))\n",
        "i=1\n",
        "s=0\n",
        "while i<= n:\n",
        "  if i % 2 == 0:\n",
        "    s= s+i\n",
        "    i=i+1\n",
        "    print(s)\n",
        "    \n",
        "\n"
      ],
      "execution_count": 0,
      "outputs": [
        {
          "output_type": "stream",
          "text": [
            "enter a number10\n"
          ],
          "name": "stdout"
        }
      ]
    },
    {
      "cell_type": "code",
      "metadata": {
        "id": "ekuqwVFEAIry",
        "colab_type": "code",
        "colab": {}
      },
      "source": [
        ""
      ],
      "execution_count": 0,
      "outputs": []
    },
    {
      "cell_type": "markdown",
      "metadata": {
        "id": "nd4tNZJnAvNR",
        "colab_type": "text"
      },
      "source": [
        "###functional programming"
      ]
    }
  ]
}