{
  "nbformat": 4,
  "nbformat_minor": 0,
  "metadata": {
    "colab": {
      "name": "5-12-19",
      "provenance": [],
      "include_colab_link": true
    },
    "kernelspec": {
      "name": "python3",
      "display_name": "Python 3"
    }
  },
  "cells": [
    {
      "cell_type": "markdown",
      "metadata": {
        "id": "view-in-github",
        "colab_type": "text"
      },
      "source": [
        "<a href=\"https://colab.research.google.com/github/Venkataramreddy22/crt-program/blob/master/5_12_19.ipynb\" target=\"_parent\"><img src=\"https://colab.research.google.com/assets/colab-badge.svg\" alt=\"Open In Colab\"/></a>"
      ]
    },
    {
      "cell_type": "markdown",
      "metadata": {
        "id": "fU-xdPodLBJV",
        "colab_type": "text"
      },
      "source": [
        "#basic list fuction\n"
      ]
    },
    {
      "cell_type": "code",
      "metadata": {
        "id": "FZkRSIlrLHCt",
        "colab_type": "code",
        "colab": {
          "base_uri": "https://localhost:8080/",
          "height": 90
        },
        "outputId": "2f840660-41d8-4312-8037-4d0d2f4f8972"
      },
      "source": [
        "li=[1,9,16,25,5]\n",
        "print(max(li))\n",
        "print(min(li))\n",
        "print(sum(li))\n",
        "print(sum(li)//len(li))"
      ],
      "execution_count": 1,
      "outputs": [
        {
          "output_type": "stream",
          "text": [
            "25\n",
            "1\n",
            "56\n",
            "11\n"
          ],
          "name": "stdout"
        }
      ]
    },
    {
      "cell_type": "code",
      "metadata": {
        "id": "iFadaj1yMclA",
        "colab_type": "code",
        "colab": {
          "base_uri": "https://localhost:8080/",
          "height": 35
        },
        "outputId": "7ccd6513-6567-41ff-92d7-099366b018d9"
      },
      "source": [
        "li=[1,9,16,25,5]\n",
        "li.append(29)# add the new items at li\n",
        "li.insert(2,56)# add the new items at li\n",
        "li\n",
        "# li.append(9)\n",
        "#li.count(9)# return the values at li\n",
        "#li.index(56)#return the values at li\n"
      ],
      "execution_count": 2,
      "outputs": [
        {
          "output_type": "execute_result",
          "data": {
            "text/plain": [
              "[1, 9, 56, 16, 25, 5, 29]"
            ]
          },
          "metadata": {
            "tags": []
          },
          "execution_count": 2
        }
      ]
    },
    {
      "cell_type": "code",
      "metadata": {
        "id": "KF68127EN25k",
        "colab_type": "code",
        "colab": {}
      },
      "source": [
        ""
      ],
      "execution_count": 0,
      "outputs": []
    },
    {
      "cell_type": "markdown",
      "metadata": {
        "id": "hlfDKXwwOLCt",
        "colab_type": "text"
      },
      "source": [
        "#method of list object"
      ]
    },
    {
      "cell_type": "code",
      "metadata": {
        "id": "-KvrD4-JORyF",
        "colab_type": "code",
        "colab": {
          "base_uri": "https://localhost:8080/",
          "height": 35
        },
        "outputId": "57f5dab0-7770-49d2-d063-7243c261d80a"
      },
      "source": [
        "li=[1,9,16,25,5,9]\n",
        "li.sort()#sort that list in assending order\n",
        "li.pop()\n",
        "li"
      ],
      "execution_count": 3,
      "outputs": [
        {
          "output_type": "execute_result",
          "data": {
            "text/plain": [
              "[1, 5, 9, 9, 16]"
            ]
          },
          "metadata": {
            "tags": []
          },
          "execution_count": 3
        }
      ]
    },
    {
      "cell_type": "code",
      "metadata": {
        "id": "4Ru5bnwxPF4V",
        "colab_type": "code",
        "colab": {
          "base_uri": "https://localhost:8080/",
          "height": 35
        },
        "outputId": "9644a1cd-096f-4071-ce82-5dfb229bdfa4"
      },
      "source": [
        "li=[1,9,16,56,25,5,9]\n",
        "li.pop(1)#remove the items from list\n",
        "li"
      ],
      "execution_count": 4,
      "outputs": [
        {
          "output_type": "execute_result",
          "data": {
            "text/plain": [
              "[1, 16, 56, 25, 5, 9]"
            ]
          },
          "metadata": {
            "tags": []
          },
          "execution_count": 4
        }
      ]
    },
    {
      "cell_type": "code",
      "metadata": {
        "id": "3sFDAkItP6md",
        "colab_type": "code",
        "colab": {
          "base_uri": "https://localhost:8080/",
          "height": 35
        },
        "outputId": "6dbfe260-59ca-45c6-859a-888a770f36e2"
      },
      "source": [
        "lil=[1,6,19,25]\n",
        "li.extend(lil)\n",
        "li\n",
        "#li.reverse()\n",
        "#li.sort()"
      ],
      "execution_count": 5,
      "outputs": [
        {
          "output_type": "execute_result",
          "data": {
            "text/plain": [
              "[1, 16, 56, 25, 5, 9, 1, 6, 19, 25]"
            ]
          },
          "metadata": {
            "tags": []
          },
          "execution_count": 5
        }
      ]
    },
    {
      "cell_type": "code",
      "metadata": {
        "id": "KfIoYas_QdPH",
        "colab_type": "code",
        "colab": {
          "base_uri": "https://localhost:8080/",
          "height": 35
        },
        "outputId": "84ebb462-76d3-4e95-8c02-84745c3d73b1"
      },
      "source": [
        "lil=[1,6,19,25]\n",
        "#li.extend(lil)\n",
        "lil.reverse()\n",
        "lil"
      ],
      "execution_count": 7,
      "outputs": [
        {
          "output_type": "execute_result",
          "data": {
            "text/plain": [
              "[25, 19, 6, 1]"
            ]
          },
          "metadata": {
            "tags": []
          },
          "execution_count": 7
        }
      ]
    },
    {
      "cell_type": "code",
      "metadata": {
        "id": "WsWRxttgRyEd",
        "colab_type": "code",
        "colab": {
          "base_uri": "https://localhost:8080/",
          "height": 54
        },
        "outputId": "c1958524-8df9-4364-e30f-7b74b6948372"
      },
      "source": [
        "def largeNumber(li):\n",
        "  li.sort()\n",
        "  return li[-1]\n",
        "def genericLarge(li,n):\n",
        "  li.sort()\n",
        "  return li[-n]\n",
        "li = [19,9,25,6,9,45,22]\n",
        "print(largeNumber(li))\n",
        "print(genericLarge(li,3))"
      ],
      "execution_count": 13,
      "outputs": [
        {
          "output_type": "stream",
          "text": [
            "45\n",
            "22\n"
          ],
          "name": "stdout"
        }
      ]
    },
    {
      "cell_type": "code",
      "metadata": {
        "id": "ANNTieL7UA49",
        "colab_type": "code",
        "colab": {
          "base_uri": "https://localhost:8080/",
          "height": 54
        },
        "outputId": "abf94abf-f907-4dac-9978-4b37327c0ba7"
      },
      "source": [
        "def smallnumber(li):\n",
        "  li.sort()\n",
        "  return li[0]\n",
        "def genericsmall(li,n):\n",
        "    li.sort()\n",
        "    return li[-n]\n",
        "li=[19,1,25,6,9,45,22]\n",
        "print(smallnumber(li))\n",
        "print(genericsmall(li,4))"
      ],
      "execution_count": 20,
      "outputs": [
        {
          "output_type": "stream",
          "text": [
            "1\n",
            "19\n"
          ],
          "name": "stdout"
        }
      ]
    },
    {
      "cell_type": "markdown",
      "metadata": {
        "id": "-n9DL2IkZHPF",
        "colab_type": "text"
      },
      "source": [
        "###Tuples\n",
        "-paranthesis() -->Tuple and square brackets[] --> list\n",
        "-difference between list and tuples\n",
        "  - list are mutable - can be change"
      ]
    },
    {
      "cell_type": "code",
      "metadata": {
        "id": "s0msjgYgaEQt",
        "colab_type": "code",
        "colab": {
          "base_uri": "https://localhost:8080/",
          "height": 35
        },
        "outputId": "c4d6c48a-e209-4d6b-8030-cdba64004bc4"
      },
      "source": [
        "t1=(1,2,3,4,5,6)\n",
        "t1\n",
        "print(type(t1),t1[1:5])"
      ],
      "execution_count": 21,
      "outputs": [
        {
          "output_type": "stream",
          "text": [
            "<class 'tuple'> (2, 3, 4, 5)\n"
          ],
          "name": "stdout"
        }
      ]
    },
    {
      "cell_type": "code",
      "metadata": {
        "id": "xrPubRJmcPKO",
        "colab_type": "code",
        "colab": {}
      },
      "source": [
        "#dictionaries\n",
        "1.it works on the concept of set unique data\n",
        "2.keys,values is the unique identifier for the value\n",
        "3.each key is seperated from its value withj colon(:)\n",
        "4.each key and value is seperated with comma(,) \n",
        "5.dictionaries enhanced with curly braces\n"
      ],
      "execution_count": 0,
      "outputs": []
    },
    {
      "cell_type": "code",
      "metadata": {
        "id": "tThYTF8PdzAt",
        "colab_type": "code",
        "colab": {}
      },
      "source": [
        "d1={\"Name\"}"
      ],
      "execution_count": 0,
      "outputs": []
    },
    {
      "cell_type": "code",
      "metadata": {
        "id": "Mt8m72jeeLEm",
        "colab_type": "code",
        "colab": {
          "base_uri": "https://localhost:8080/",
          "height": 90
        },
        "outputId": "79e0299d-49f6-4035-dd46-e9ac60a1ae14"
      },
      "source": [
        "d1={\"Name\":\"Gitam\",\"Email id\":\"gitam@gmail.com\",\"Address\":\"Hyderabad\"}\n",
        "d1[\"Email id \"] = \"gitampython@gmail.com\"\n",
        "d1"
      ],
      "execution_count": 26,
      "outputs": [
        {
          "output_type": "execute_result",
          "data": {
            "text/plain": [
              "{'Address': 'Hyderabad',\n",
              " 'Email id': 'gitam@gmail.com',\n",
              " 'Email id ': 'gitampython@gmail.com',\n",
              " 'Name': 'Gitam'}"
            ]
          },
          "metadata": {
            "tags": []
          },
          "execution_count": 26
        }
      ]
    },
    {
      "cell_type": "code",
      "metadata": {
        "id": "tYeRWPzPf9Fm",
        "colab_type": "code",
        "colab": {
          "base_uri": "https://localhost:8080/",
          "height": 35
        },
        "outputId": "9911ce28-89e2-4fbf-e956-d1c272b73fe9"
      },
      "source": [
        "del d1[\"Email id\"]\n",
        "d1"
      ],
      "execution_count": 27,
      "outputs": [
        {
          "output_type": "execute_result",
          "data": {
            "text/plain": [
              "{'Address': 'Hyderabad', 'Email id ': 'gitampython@gmail.com', 'Name': 'Gitam'}"
            ]
          },
          "metadata": {
            "tags": []
          },
          "execution_count": 27
        }
      ]
    },
    {
      "cell_type": "code",
      "metadata": {
        "id": "av_UTBKogntm",
        "colab_type": "code",
        "colab": {
          "base_uri": "https://localhost:8080/",
          "height": 35
        },
        "outputId": "a364a6b8-960a-4f1f-c13c-c6f2a6981036"
      },
      "source": [
        "d1.keys()\n"
      ],
      "execution_count": 28,
      "outputs": [
        {
          "output_type": "execute_result",
          "data": {
            "text/plain": [
              "dict_keys(['Name', 'Address', 'Email id '])"
            ]
          },
          "metadata": {
            "tags": []
          },
          "execution_count": 28
        }
      ]
    },
    {
      "cell_type": "code",
      "metadata": {
        "id": "n-jM6YLZg6R-",
        "colab_type": "code",
        "colab": {
          "base_uri": "https://localhost:8080/",
          "height": 35
        },
        "outputId": "50a090e2-ae15-47c8-9c06-83a4aece5cfe"
      },
      "source": [
        "d1.values()"
      ],
      "execution_count": 29,
      "outputs": [
        {
          "output_type": "execute_result",
          "data": {
            "text/plain": [
              "dict_values(['Gitam', 'Hyderabad', 'gitampython@gmail.com'])"
            ]
          },
          "metadata": {
            "tags": []
          },
          "execution_count": 29
        }
      ]
    },
    {
      "cell_type": "code",
      "metadata": {
        "id": "n3r9QQPthAdn",
        "colab_type": "code",
        "colab": {
          "base_uri": "https://localhost:8080/",
          "height": 35
        },
        "outputId": "717abfd6-276c-44b2-b2b1-c568ee7c7dca"
      },
      "source": [
        "d1.items()"
      ],
      "execution_count": 30,
      "outputs": [
        {
          "output_type": "execute_result",
          "data": {
            "text/plain": [
              "dict_items([('Name', 'Gitam'), ('Address', 'Hyderabad'), ('Email id ', 'gitampython@gmail.com')])"
            ]
          },
          "metadata": {
            "tags": []
          },
          "execution_count": 30
        }
      ]
    },
    {
      "cell_type": "markdown",
      "metadata": {
        "id": "PHkeOWIJiD--",
        "colab_type": "text"
      },
      "source": [
        "#strings:\n",
        "-strings\n",
        "-string slicings\n",
        "-Fundamental programming with string in python"
      ]
    },
    {
      "cell_type": "code",
      "metadata": {
        "id": "Ue5LSLP9icUR",
        "colab_type": "code",
        "colab": {
          "base_uri": "https://localhost:8080/",
          "height": 54
        },
        "outputId": "12213b61-a539-47a9-e778-bf80bf46cac2"
      },
      "source": [
        "s1='python'\n",
        "print(s1)\n",
        "print (type(s1))"
      ],
      "execution_count": 32,
      "outputs": [
        {
          "output_type": "stream",
          "text": [
            "python\n",
            "<class 'str'>\n"
          ],
          "name": "stdout"
        }
      ]
    },
    {
      "cell_type": "code",
      "metadata": {
        "id": "4g6YmFjAi1y1",
        "colab_type": "code",
        "colab": {
          "base_uri": "https://localhost:8080/",
          "height": 90
        },
        "outputId": "ab9b35b0-8b9a-4c26-b478-1930e6cb0404"
      },
      "source": [
        "s1='python'\n",
        "print(s1[0])#acces the 1 character\n",
        "print(s1[1])#acces the2 chac\n",
        "print(s1[5])#last chac\n",
        "print(s1[len(s1)-1])#access last chac"
      ],
      "execution_count": 33,
      "outputs": [
        {
          "output_type": "stream",
          "text": [
            "p\n",
            "y\n",
            "n\n",
            "n\n"
          ],
          "name": "stdout"
        }
      ]
    },
    {
      "cell_type": "code",
      "metadata": {
        "id": "-fu1Mr3ejt0n",
        "colab_type": "code",
        "colab": {
          "base_uri": "https://localhost:8080/",
          "height": 126
        },
        "outputId": "0580b5e3-982b-423e-fc0d-63a18aeb5481"
      },
      "source": [
        "print(s1[-1])\n",
        "print(s1[-2])\n",
        "print(s1[0:2])\n",
        "print(s1[:2])\n",
        "print(s1[-1])\n",
        "print(s1[-2:])"
      ],
      "execution_count": 34,
      "outputs": [
        {
          "output_type": "stream",
          "text": [
            "n\n",
            "o\n",
            "py\n",
            "py\n",
            "n\n",
            "on\n"
          ],
          "name": "stdout"
        }
      ]
    },
    {
      "cell_type": "code",
      "metadata": {
        "id": "BRpG2F6nk9Um",
        "colab_type": "code",
        "colab": {
          "base_uri": "https://localhost:8080/",
          "height": 145
        },
        "outputId": "135aa75e-4b93-4486-f211-84cacd087ee8"
      },
      "source": [
        "print(s1[1:-1])\n",
        "print(s1[len(s1)//2])\n",
        "print(s1[-1::-1])\n",
        "print(s1[-1:-3:-1])\n",
        "print(s1[::2])\n",
        "print(s1[::3])\n",
        "print(s1[::-2])"
      ],
      "execution_count": 37,
      "outputs": [
        {
          "output_type": "stream",
          "text": [
            "ytho\n",
            "h\n",
            "nohtyp\n",
            "no\n",
            "pto\n",
            "ph\n",
            "nhy\n"
          ],
          "name": "stdout"
        }
      ]
    },
    {
      "cell_type": "markdown",
      "metadata": {
        "id": "RgHghRSwn0h3",
        "colab_type": "text"
      },
      "source": [
        "#reversing a string\n"
      ]
    },
    {
      "cell_type": "code",
      "metadata": {
        "id": "VuDCvQUKn7aH",
        "colab_type": "code",
        "colab": {
          "base_uri": "https://localhost:8080/",
          "height": 35
        },
        "outputId": "1deb3d46-99e9-4317-ffce-f0255b4e8b3c"
      },
      "source": [
        "def reversestring(str):\n",
        "  return str[-1::-1]\n",
        "reversestring(\"programming\")"
      ],
      "execution_count": 39,
      "outputs": [
        {
          "output_type": "execute_result",
          "data": {
            "text/plain": [
              "'gnimmargorp'"
            ]
          },
          "metadata": {
            "tags": []
          },
          "execution_count": 39
        }
      ]
    },
    {
      "cell_type": "markdown",
      "metadata": {
        "id": "hGHzaMPLoUPW",
        "colab_type": "text"
      },
      "source": [
        "#check wheather the given string is palindrome or not\n"
      ]
    },
    {
      "cell_type": "code",
      "metadata": {
        "id": "5aLxV5vBoeMX",
        "colab_type": "code",
        "colab": {
          "base_uri": "https://localhost:8080/",
          "height": 54
        },
        "outputId": "2d671abb-2ffe-446b-8e56-e530a8445cd1"
      },
      "source": [
        "def palindrome(str):\n",
        "  if str == str[::-1]:\n",
        "      return True\n",
        "  else:\n",
        "    return False\n",
        "  return\n",
        "print(palindrome(\"python\"))\n",
        "print(palindrome(\"ganag\"))"
      ],
      "execution_count": 49,
      "outputs": [
        {
          "output_type": "stream",
          "text": [
            "False\n",
            "True\n"
          ],
          "name": "stdout"
        }
      ]
    },
    {
      "cell_type": "markdown",
      "metadata": {
        "id": "iC6VXylRp12i",
        "colab_type": "text"
      },
      "source": [
        "#string Built-in methods\n",
        "\n",
        "1.   upper()-- will convert the input string into upper case\n",
        "2. lower()-- will convert the input string into lower case\n",
        "\n"
      ]
    },
    {
      "cell_type": "code",
      "metadata": {
        "id": "Cg47IOfEqaM_",
        "colab_type": "code",
        "colab": {
          "base_uri": "https://localhost:8080/",
          "height": 54
        },
        "outputId": "95810738-d8a1-4fe2-abc3-ff57d2f70f15"
      },
      "source": [
        "s1='python'\n",
        "print(s1.upper())\n",
        "print(s1.lower())"
      ],
      "execution_count": 45,
      "outputs": [
        {
          "output_type": "stream",
          "text": [
            "PYTHON\n",
            "python\n"
          ],
          "name": "stdout"
        }
      ]
    },
    {
      "cell_type": "markdown",
      "metadata": {
        "id": "wQO3qVmKquW-",
        "colab_type": "text"
      },
      "source": [
        "###string boolean built in methods"
      ]
    },
    {
      "cell_type": "code",
      "metadata": {
        "id": "PjkP8xEnq2X_",
        "colab_type": "code",
        "colab": {}
      },
      "source": [
        "3.is lower()--True if the string have all characters lower case\n",
        "4.is upper()--True if the string have all characters upper case\n",
        "5.istitle()\n",
        "6.isnumeric()\n",
        "7.isalpha()\n",
        "8.isspace()"
      ],
      "execution_count": 0,
      "outputs": []
    },
    {
      "cell_type": "code",
      "metadata": {
        "id": "lB3cn4qRrsPY",
        "colab_type": "code",
        "colab": {
          "base_uri": "https://localhost:8080/",
          "height": 54
        },
        "outputId": "e94ae2d9-e884-4180-95f1-f5d488cf4e65"
      },
      "source": [
        "s1=\"python\"\n",
        "print(s1.islower())\n",
        "print(s1.isupper())"
      ],
      "execution_count": 50,
      "outputs": [
        {
          "output_type": "stream",
          "text": [
            "True\n",
            "False\n"
          ],
          "name": "stdout"
        }
      ]
    },
    {
      "cell_type": "code",
      "metadata": {
        "id": "h1nxxBDgsvMX",
        "colab_type": "code",
        "colab": {
          "base_uri": "https://localhost:8080/",
          "height": 54
        },
        "outputId": "40dee67a-1829-4379-abe3-23d215902736"
      },
      "source": [
        "s1=\"python\"\n",
        "s2=\"py123\"\n",
        "print(s1.isnumeric())\n",
        "print(s2.isnumeric())"
      ],
      "execution_count": 52,
      "outputs": [
        {
          "output_type": "stream",
          "text": [
            "False\n",
            "False\n"
          ],
          "name": "stdout"
        }
      ]
    },
    {
      "cell_type": "code",
      "metadata": {
        "id": "QJ1MCNIrtLjg",
        "colab_type": "code",
        "colab": {
          "base_uri": "https://localhost:8080/",
          "height": 54
        },
        "outputId": "377d0bd8-de70-4e93-e7a3-65aa46e71654"
      },
      "source": [
        "s1=\"python\"\n",
        "s2=\"py134\"\n",
        "print(s1.isalpha())\n",
        "print(s2.isalpha())"
      ],
      "execution_count": 53,
      "outputs": [
        {
          "output_type": "stream",
          "text": [
            "True\n",
            "False\n"
          ],
          "name": "stdout"
        }
      ]
    },
    {
      "cell_type": "markdown",
      "metadata": {
        "id": "BZxoWpurtuIo",
        "colab_type": "text"
      },
      "source": [
        "##string methods\n",
        "\n",
        "1.  join\n",
        "2.   split\n",
        "\n",
        "1.   replace\n",
        "\n",
        "\n"
      ]
    },
    {
      "cell_type": "code",
      "metadata": {
        "id": "zjGh6UqJt_RQ",
        "colab_type": "code",
        "colab": {
          "base_uri": "https://localhost:8080/",
          "height": 35
        },
        "outputId": "1e9e38c5-e67f-4836-c2e7-3d8fd21c5d02"
      },
      "source": [
        "s1='python'\n",
        "print(\" \".join(s1))"
      ],
      "execution_count": 54,
      "outputs": [
        {
          "output_type": "stream",
          "text": [
            "p y t h o n\n"
          ],
          "name": "stdout"
        }
      ]
    },
    {
      "cell_type": "code",
      "metadata": {
        "id": "weWszpJavD1J",
        "colab_type": "code",
        "colab": {
          "base_uri": "https://localhost:8080/",
          "height": 35
        },
        "outputId": "fcc96411-8f63-484a-b5ef-a93f1cafc271"
      },
      "source": [
        "s2=\"python programming easy to learn\"\n",
        "print (s2.split())"
      ],
      "execution_count": 55,
      "outputs": [
        {
          "output_type": "stream",
          "text": [
            "['python', 'programming', 'easy', 'to', 'learn']\n"
          ],
          "name": "stdout"
        }
      ]
    },
    {
      "cell_type": "code",
      "metadata": {
        "id": "aJ-jcTZFvtTH",
        "colab_type": "code",
        "colab": {
          "base_uri": "https://localhost:8080/",
          "height": 35
        },
        "outputId": "95ceb5f5-b8dc-4c0b-e407-583967001cc8"
      },
      "source": [
        "s2=\"python programming easy to learn\"\n",
        "print(s2.split('a'))"
      ],
      "execution_count": 56,
      "outputs": [
        {
          "output_type": "stream",
          "text": [
            "['python progr', 'mming e', 'sy to le', 'rn']\n"
          ],
          "name": "stdout"
        }
      ]
    },
    {
      "cell_type": "code",
      "metadata": {
        "id": "TgWYGJYSwCTv",
        "colab_type": "code",
        "colab": {
          "base_uri": "https://localhost:8080/",
          "height": 55
        },
        "outputId": "be312d9b-7c6b-4193-e4c6-413ac13fc5a3"
      },
      "source": [
        "s2=\"python programming Easy to learn\"\n",
        "li=list(s2)\n",
        "print(li)"
      ],
      "execution_count": 59,
      "outputs": [
        {
          "output_type": "stream",
          "text": [
            "['p', 'y', 't', 'h', 'o', 'n', ' ', 'p', 'r', 'o', 'g', 'r', 'a', 'm', 'm', 'i', 'n', 'g', ' ', 'E', 'a', 's', 'y', ' ', 't', 'o', ' ', 'l', 'e', 'a', 'r', 'n']\n"
          ],
          "name": "stdout"
        }
      ]
    },
    {
      "cell_type": "code",
      "metadata": {
        "id": "jX7UR99Mwk0X",
        "colab_type": "code",
        "colab": {
          "base_uri": "https://localhost:8080/",
          "height": 35
        },
        "outputId": "82127ef5-ff93-48c8-cb3e-fdee6fc13a52"
      },
      "source": [
        "s2=\"python programming easy to learn\"\n",
        "print(s2.replace(\"gra\",\"application\"))"
      ],
      "execution_count": 60,
      "outputs": [
        {
          "output_type": "stream",
          "text": [
            "python proapplicationmming easy to learn\n"
          ],
          "name": "stdout"
        }
      ]
    }
  ]
}